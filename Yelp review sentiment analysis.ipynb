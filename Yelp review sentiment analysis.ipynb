{
 "cells": [
  {
   "cell_type": "markdown",
   "metadata": {},
   "source": [
    "# Import libraries"
   ]
  },
  {
   "cell_type": "code",
   "execution_count": 223,
   "metadata": {},
   "outputs": [],
   "source": [
    "import numpy as np\n",
    "import matplotlib.pyplot as plt\n",
    "import pandas as pd\n",
    "import seaborn as sns\n",
    "from scipy import stats\n",
    "from sklearn import preprocessing\n",
    "import time\n",
    "import geohash as gh\n",
    "from sklearn.metrics import mean_squared_error, r2_score\n",
    "from string import punctuation\n",
    "from collections import Counter\n",
    "from keras import Sequential\n",
    "from keras.layers import Embedding,LSTM,Dense,Conv1D,MaxPooling1D\n",
    "from keras.preprocessing import sequence\n",
    "from keras.callbacks import ModelCheckpoint"
   ]
  },
  {
   "cell_type": "markdown",
   "metadata": {},
   "source": [
    "# Useful functions"
   ]
  },
  {
   "cell_type": "code",
   "execution_count": 153,
   "metadata": {},
   "outputs": [],
   "source": [
    "def remove_punctuation(comment):\n",
    "    return ''.join([c for c in comment if c not in punctuation])\n",
    "def create_vocabulary(comments):\n",
    "    all_text = ' '.join(comments)\n",
    "    # create a list of words\n",
    "    words = all_text.split()\n",
    "    # Count all the words using Counter Method\n",
    "    count_words = Counter(words)\n",
    "\n",
    "    total_words = len(words)\n",
    "    sorted_words = count_words.most_common(total_words)\n",
    "    vocab_to_int = {w:i+1 for i, (w,c) in enumerate(sorted_words)}\n",
    "    return vocab_to_int\n",
    "def word_encoder(vocabulary,comment):\n",
    "    return [vocabulary[word] for word in comment.split()]\n",
    "def treat_outlier(df_series,sigma):\n",
    "    Q1=df_series.quantile(0.25)\n",
    "    Q3=df_series.quantile(0.75)\n",
    "    IQR=Q3-Q1\n",
    "    Lower_Whisker = Q1-sigma*IQR\n",
    "    Upper_Whisker = Q3+sigma*IQR\n",
    "    return Lower_Whisker,Upper_Whisker\n",
    "def create_seq(comment,comment_len,seq_len):\n",
    "    if comment_len<seq_len:\n",
    "        return list(np.zeros(seq_len-comment_len))+comment\n",
    "    else:\n",
    "        return comment[:seq_len]"
   ]
  },
  {
   "cell_type": "markdown",
   "metadata": {},
   "source": [
    "# Data preparation"
   ]
  },
  {
   "cell_type": "code",
   "execution_count": 2,
   "metadata": {},
   "outputs": [],
   "source": [
    "#load the dataset\n",
    "train_data = pd.read_csv('data/train.csv')"
   ]
  },
  {
   "cell_type": "code",
   "execution_count": 4,
   "metadata": {},
   "outputs": [],
   "source": [
    "train_data.columns = ['score','comment']"
   ]
  },
  {
   "cell_type": "code",
   "execution_count": 7,
   "metadata": {},
   "outputs": [],
   "source": [
    "train_data['sentiment_polarity'] = np.where(train_data['score']==1,0,1)"
   ]
  },
  {
   "cell_type": "code",
   "execution_count": 10,
   "metadata": {},
   "outputs": [],
   "source": [
    "train_data = train_data.drop('score',axis=1)"
   ]
  },
  {
   "cell_type": "code",
   "execution_count": 14,
   "metadata": {},
   "outputs": [],
   "source": [
    "train_data.to_csv('data/train.csv',index=False)"
   ]
  },
  {
   "cell_type": "code",
   "execution_count": 15,
   "metadata": {},
   "outputs": [],
   "source": [
    "#do the same for test_data\n",
    "test_data = pd.read_csv('data/test.csv')\n",
    "test_data.columns = ['score','comment']\n",
    "test_data['sentiment_polarity']=np.where(test_data['score']==1,0,1)\n",
    "test_data = test_data.drop('score',axis=1)\n",
    "test_data.to_csv('data/test.csv',index=False)"
   ]
  },
  {
   "cell_type": "markdown",
   "metadata": {},
   "source": [
    "# Data preprocess"
   ]
  },
  {
   "cell_type": "code",
   "execution_count": 83,
   "metadata": {},
   "outputs": [],
   "source": [
    "train_data = pd.read_csv('data/train.csv')"
   ]
  },
  {
   "cell_type": "code",
   "execution_count": 87,
   "metadata": {
    "scrolled": true
   },
   "outputs": [],
   "source": [
    "df = train_data.sample(frac=0.1,replace=False,random_state=1)"
   ]
  },
  {
   "cell_type": "code",
   "execution_count": 88,
   "metadata": {},
   "outputs": [],
   "source": [
    "#lowercase all the reviews\n",
    "df['comment']=[i.lower() for i in df['comment']]\n",
    "    "
   ]
  },
  {
   "cell_type": "code",
   "execution_count": 89,
   "metadata": {},
   "outputs": [],
   "source": [
    "#remove punctuation\n",
    "df['comment'] = [remove_punctuation(i) for i in df['comment']]"
   ]
  },
  {
   "cell_type": "code",
   "execution_count": 90,
   "metadata": {},
   "outputs": [],
   "source": [
    "#create vocabulary\n",
    "vocabulary = create_vocabulary(df['comment'])"
   ]
  },
  {
   "cell_type": "code",
   "execution_count": 91,
   "metadata": {
    "scrolled": false
   },
   "outputs": [],
   "source": [
    "#encode the words\n",
    "\n",
    "df['comment'] = [word_encoder(vocabulary,i) for i in df['comment']]"
   ]
  },
  {
   "cell_type": "code",
   "execution_count": 92,
   "metadata": {
    "scrolled": true
   },
   "outputs": [
    {
     "data": {
      "image/png": "[encoded data removed]",
      "text/plain": [
       "<Figure size 432x288 with 1 Axes>"
      ]
     },
     "metadata": {
      "needs_background": "light"
     },
     "output_type": "display_data"
    },
    {
     "data": {
      "text/plain": [
       "count    56000.000000\n",
       "mean       132.195357\n",
       "std        122.395766\n",
       "min          1.000000\n",
       "25%         51.000000\n",
       "50%         96.000000\n",
       "75%        172.000000\n",
       "max       1025.000000\n",
       "Name: comment_len, dtype: float64"
      ]
     },
     "execution_count": 92,
     "metadata": {},
     "output_type": "execute_result"
    }
   ],
   "source": [
    "#analyze review length and remove outliers\n",
    "df['comment_len'] = [len(x) for x in df['comment']]\n",
    "df['comment_len'].hist()\n",
    "plt.show()\n",
    "df['comment_len'].describe()"
   ]
  },
  {
   "cell_type": "code",
   "execution_count": 95,
   "metadata": {},
   "outputs": [],
   "source": [
    "lower,upper = treat_outlier(df['comment_len'],3)"
   ]
  },
  {
   "cell_type": "code",
   "execution_count": 98,
   "metadata": {},
   "outputs": [],
   "source": [
    "df = df.loc[df['comment_len']<upper]"
   ]
  },
  {
   "cell_type": "code",
   "execution_count": 113,
   "metadata": {},
   "outputs": [],
   "source": [
    "#create inputs for embedding layer\n",
    "seq_len = 200\n",
    "df['comment_input'] = df.apply(lambda x: create_seq(x['comment'],x['comment_len'],seq_len),axis=1)"
   ]
  },
  {
   "cell_type": "code",
   "execution_count": 157,
   "metadata": {
    "scrolled": true
   },
   "outputs": [
    {
     "data": {
      "text/html": [
       "<div>\n",
       "<style scoped>\n",
       "    .dataframe tbody tr th:only-of-type {\n",
       "        vertical-align: middle;\n",
       "    }\n",
       "\n",
       "    .dataframe tbody tr th {\n",
       "        vertical-align: top;\n",
       "    }\n",
       "\n",
       "    .dataframe thead th {\n",
       "        text-align: right;\n",
       "    }\n",
       "</style>\n",
       "<table border=\"1\" class=\"dataframe\">\n",
       "  <thead>\n",
       "    <tr style=\"text-align: right;\">\n",
       "      <th></th>\n",
       "      <th>comment</th>\n",
       "      <th>sentiment_polarity</th>\n",
       "      <th>comment_len</th>\n",
       "      <th>comment_input</th>\n",
       "    </tr>\n",
       "  </thead>\n",
       "  <tbody>\n",
       "    <tr>\n",
       "      <th>39658</th>\n",
       "      <td>[19, 62, 182, 58, 370, 45, 19, 160, 44, 2, 93,...</td>\n",
       "      <td>1</td>\n",
       "      <td>57</td>\n",
       "      <td>[0.0, 0.0, 0.0, 0.0, 0.0, 0.0, 0.0, 0.0, 0.0, ...</td>\n",
       "    </tr>\n",
       "    <tr>\n",
       "      <th>406546</th>\n",
       "      <td>[15, 30, 75, 41, 120, 359, 2, 16, 1, 190, 8, 7...</td>\n",
       "      <td>1</td>\n",
       "      <td>157</td>\n",
       "      <td>[0.0, 0.0, 0.0, 0.0, 0.0, 0.0, 0.0, 0.0, 0.0, ...</td>\n",
       "    </tr>\n",
       "    <tr>\n",
       "      <th>238894</th>\n",
       "      <td>[33, 29, 17, 1878, 20, 218, 25, 74, 95, 20, 13...</td>\n",
       "      <td>0</td>\n",
       "      <td>73</td>\n",
       "      <td>[0.0, 0.0, 0.0, 0.0, 0.0, 0.0, 0.0, 0.0, 0.0, ...</td>\n",
       "    </tr>\n",
       "    <tr>\n",
       "      <th>453534</th>\n",
       "      <td>[3372, 1, 1503, 1512, 7073, 655, 28081, 24, 1,...</td>\n",
       "      <td>0</td>\n",
       "      <td>24</td>\n",
       "      <td>[0.0, 0.0, 0.0, 0.0, 0.0, 0.0, 0.0, 0.0, 0.0, ...</td>\n",
       "    </tr>\n",
       "    <tr>\n",
       "      <th>484639</th>\n",
       "      <td>[250, 529, 303, 31, 5, 28082]</td>\n",
       "      <td>1</td>\n",
       "      <td>6</td>\n",
       "      <td>[0.0, 0.0, 0.0, 0.0, 0.0, 0.0, 0.0, 0.0, 0.0, ...</td>\n",
       "    </tr>\n",
       "    <tr>\n",
       "      <th>87433</th>\n",
       "      <td>[4648, 1, 453, 12, 857, 3267, 11, 5, 201, 681,...</td>\n",
       "      <td>1</td>\n",
       "      <td>66</td>\n",
       "      <td>[0.0, 0.0, 0.0, 0.0, 0.0, 0.0, 0.0, 0.0, 0.0, ...</td>\n",
       "    </tr>\n",
       "    <tr>\n",
       "      <th>115310</th>\n",
       "      <td>[15, 30, 1155, 38, 19, 131, 337, 358, 2, 57, 1...</td>\n",
       "      <td>0</td>\n",
       "      <td>60</td>\n",
       "      <td>[0.0, 0.0, 0.0, 0.0, 0.0, 0.0, 0.0, 0.0, 0.0, ...</td>\n",
       "    </tr>\n",
       "    <tr>\n",
       "      <th>463156</th>\n",
       "      <td>[490, 40, 148, 6, 34393, 14, 209, 4, 808, 8, 2...</td>\n",
       "      <td>0</td>\n",
       "      <td>33</td>\n",
       "      <td>[0.0, 0.0, 0.0, 0.0, 0.0, 0.0, 0.0, 0.0, 0.0, ...</td>\n",
       "    </tr>\n",
       "    <tr>\n",
       "      <th>455506</th>\n",
       "      <td>[14, 25, 473, 2151, 76, 1, 48, 14, 645, 10, 24...</td>\n",
       "      <td>0</td>\n",
       "      <td>197</td>\n",
       "      <td>[0.0, 0.0, 0.0, 14, 25, 473, 2151, 76, 1, 48, ...</td>\n",
       "    </tr>\n",
       "    <tr>\n",
       "      <th>385063</th>\n",
       "      <td>[1562, 54, 1, 3218, 148, 1, 3819, 44, 27, 399,...</td>\n",
       "      <td>0</td>\n",
       "      <td>61</td>\n",
       "      <td>[0.0, 0.0, 0.0, 0.0, 0.0, 0.0, 0.0, 0.0, 0.0, ...</td>\n",
       "    </tr>\n",
       "    <tr>\n",
       "      <th>444646</th>\n",
       "      <td>[1026, 8, 302, 48564, 1403, 344, 57, 48565, 34...</td>\n",
       "      <td>0</td>\n",
       "      <td>23</td>\n",
       "      <td>[0.0, 0.0, 0.0, 0.0, 0.0, 0.0, 0.0, 0.0, 0.0, ...</td>\n",
       "    </tr>\n",
       "    <tr>\n",
       "      <th>452245</th>\n",
       "      <td>[1381, 212, 36, 19, 222, 12, 2, 1900, 5032, 33...</td>\n",
       "      <td>1</td>\n",
       "      <td>44</td>\n",
       "      <td>[0.0, 0.0, 0.0, 0.0, 0.0, 0.0, 0.0, 0.0, 0.0, ...</td>\n",
       "    </tr>\n",
       "    <tr>\n",
       "      <th>338677</th>\n",
       "      <td>[15, 11, 1, 1521, 1252, 14, 25, 10, 1883, 2, 3...</td>\n",
       "      <td>0</td>\n",
       "      <td>132</td>\n",
       "      <td>[0.0, 0.0, 0.0, 0.0, 0.0, 0.0, 0.0, 0.0, 0.0, ...</td>\n",
       "    </tr>\n",
       "    <tr>\n",
       "      <th>182365</th>\n",
       "      <td>[7766, 85, 21, 164, 220, 15, 30, 89, 373, 52, ...</td>\n",
       "      <td>0</td>\n",
       "      <td>111</td>\n",
       "      <td>[0.0, 0.0, 0.0, 0.0, 0.0, 0.0, 0.0, 0.0, 0.0, ...</td>\n",
       "    </tr>\n",
       "    <tr>\n",
       "      <th>219862</th>\n",
       "      <td>[60, 5, 518, 30, 215, 1, 769, 901, 386, 3, 153...</td>\n",
       "      <td>1</td>\n",
       "      <td>27</td>\n",
       "      <td>[0.0, 0.0, 0.0, 0.0, 0.0, 0.0, 0.0, 0.0, 0.0, ...</td>\n",
       "    </tr>\n",
       "    <tr>\n",
       "      <th>424640</th>\n",
       "      <td>[102, 1798, 6, 1, 2127, 10, 1, 103, 6, 84, 623...</td>\n",
       "      <td>0</td>\n",
       "      <td>74</td>\n",
       "      <td>[0.0, 0.0, 0.0, 0.0, 0.0, 0.0, 0.0, 0.0, 0.0, ...</td>\n",
       "    </tr>\n",
       "    <tr>\n",
       "      <th>505921</th>\n",
       "      <td>[3, 121, 15, 30, 8, 75, 533, 2656, 1, 102, 48,...</td>\n",
       "      <td>1</td>\n",
       "      <td>40</td>\n",
       "      <td>[0.0, 0.0, 0.0, 0.0, 0.0, 0.0, 0.0, 0.0, 0.0, ...</td>\n",
       "    </tr>\n",
       "    <tr>\n",
       "      <th>116293</th>\n",
       "      <td>[1745, 46, 1, 9920, 337, 1415, 7397, 12, 34398...</td>\n",
       "      <td>0</td>\n",
       "      <td>96</td>\n",
       "      <td>[0.0, 0.0, 0.0, 0.0, 0.0, 0.0, 0.0, 0.0, 0.0, ...</td>\n",
       "    </tr>\n",
       "    <tr>\n",
       "      <th>444876</th>\n",
       "      <td>[15, 6, 1, 1314, 48, 1067, 288, 5545, 3, 140, ...</td>\n",
       "      <td>0</td>\n",
       "      <td>174</td>\n",
       "      <td>[0.0, 0.0, 0.0, 0.0, 0.0, 0.0, 0.0, 0.0, 0.0, ...</td>\n",
       "    </tr>\n",
       "    <tr>\n",
       "      <th>358621</th>\n",
       "      <td>[203, 489, 2, 631, 3405, 27, 260, 13, 294, 818...</td>\n",
       "      <td>1</td>\n",
       "      <td>74</td>\n",
       "      <td>[0.0, 0.0, 0.0, 0.0, 0.0, 0.0, 0.0, 0.0, 0.0, ...</td>\n",
       "    </tr>\n",
       "    <tr>\n",
       "      <th>472660</th>\n",
       "      <td>[13, 394, 775, 44, 24, 281, 270, 5, 741, 52, 2...</td>\n",
       "      <td>1</td>\n",
       "      <td>16</td>\n",
       "      <td>[0.0, 0.0, 0.0, 0.0, 0.0, 0.0, 0.0, 0.0, 0.0, ...</td>\n",
       "    </tr>\n",
       "    <tr>\n",
       "      <th>322552</th>\n",
       "      <td>[645, 10, 700, 2478, 7296, 9, 5, 155, 820, 16,...</td>\n",
       "      <td>0</td>\n",
       "      <td>230</td>\n",
       "      <td>[645, 10, 700, 2478, 7296, 9, 5, 155, 820, 16,...</td>\n",
       "    </tr>\n",
       "    <tr>\n",
       "      <th>479732</th>\n",
       "      <td>[338, 1515, 12, 45, 3, 102, 431, 12, 28088, 6,...</td>\n",
       "      <td>1</td>\n",
       "      <td>85</td>\n",
       "      <td>[0.0, 0.0, 0.0, 0.0, 0.0, 0.0, 0.0, 0.0, 0.0, ...</td>\n",
       "    </tr>\n",
       "    <tr>\n",
       "      <th>478912</th>\n",
       "      <td>[13, 455, 3, 2434, 24, 1, 139, 149, 19799, 20,...</td>\n",
       "      <td>0</td>\n",
       "      <td>109</td>\n",
       "      <td>[0.0, 0.0, 0.0, 0.0, 0.0, 0.0, 0.0, 0.0, 0.0, ...</td>\n",
       "    </tr>\n",
       "    <tr>\n",
       "      <th>244327</th>\n",
       "      <td>[14, 288, 4, 58, 55, 2, 18, 43, 183, 9, 43, 53...</td>\n",
       "      <td>0</td>\n",
       "      <td>130</td>\n",
       "      <td>[0.0, 0.0, 0.0, 0.0, 0.0, 0.0, 0.0, 0.0, 0.0, ...</td>\n",
       "    </tr>\n",
       "    <tr>\n",
       "      <th>442738</th>\n",
       "      <td>[1, 29, 6, 33, 17, 3, 82, 35, 12, 1, 358, 25, ...</td>\n",
       "      <td>0</td>\n",
       "      <td>21</td>\n",
       "      <td>[0.0, 0.0, 0.0, 0.0, 0.0, 0.0, 0.0, 0.0, 0.0, ...</td>\n",
       "    </tr>\n",
       "    <tr>\n",
       "      <th>141446</th>\n",
       "      <td>[105, 70, 4, 130, 580, 2, 211, 171, 22, 613, 2...</td>\n",
       "      <td>1</td>\n",
       "      <td>472</td>\n",
       "      <td>[105, 70, 4, 130, 580, 2, 211, 171, 22, 613, 2...</td>\n",
       "    </tr>\n",
       "    <tr>\n",
       "      <th>170034</th>\n",
       "      <td>[1048, 1, 1583, 58, 9, 1, 191, 29, 1, 477, 913...</td>\n",
       "      <td>1</td>\n",
       "      <td>70</td>\n",
       "      <td>[0.0, 0.0, 0.0, 0.0, 0.0, 0.0, 0.0, 0.0, 0.0, ...</td>\n",
       "    </tr>\n",
       "    <tr>\n",
       "      <th>524633</th>\n",
       "      <td>[3, 121, 7185, 48575, 156, 1706, 190, 55, 1311...</td>\n",
       "      <td>1</td>\n",
       "      <td>76</td>\n",
       "      <td>[0.0, 0.0, 0.0, 0.0, 0.0, 0.0, 0.0, 0.0, 0.0, ...</td>\n",
       "    </tr>\n",
       "    <tr>\n",
       "      <th>263680</th>\n",
       "      <td>[90, 44, 20, 5, 1617, 133, 178, 395, 53, 6, 40...</td>\n",
       "      <td>0</td>\n",
       "      <td>78</td>\n",
       "      <td>[0.0, 0.0, 0.0, 0.0, 0.0, 0.0, 0.0, 0.0, 0.0, ...</td>\n",
       "    </tr>\n",
       "    <tr>\n",
       "      <th>167984</th>\n",
       "      <td>[183, 1745, 1, 29, 11, 120, 33, 17, 105, 86, 4...</td>\n",
       "      <td>1</td>\n",
       "      <td>88</td>\n",
       "      <td>[0.0, 0.0, 0.0, 0.0, 0.0, 0.0, 0.0, 0.0, 0.0, ...</td>\n",
       "    </tr>\n",
       "    <tr>\n",
       "      <th>425716</th>\n",
       "      <td>[105, 70, 332, 44, 9, 311, 145, 272, 48578, 2,...</td>\n",
       "      <td>1</td>\n",
       "      <td>26</td>\n",
       "      <td>[0.0, 0.0, 0.0, 0.0, 0.0, 0.0, 0.0, 0.0, 0.0, ...</td>\n",
       "    </tr>\n",
       "    <tr>\n",
       "      <th>248059</th>\n",
       "      <td>[13, 975, 2, 3, 39, 96, 56, 46, 1632, 1901, 51...</td>\n",
       "      <td>1</td>\n",
       "      <td>231</td>\n",
       "      <td>[13, 975, 2, 3, 39, 96, 56, 46, 1632, 1901, 51...</td>\n",
       "    </tr>\n",
       "    <tr>\n",
       "      <th>325703</th>\n",
       "      <td>[13, 102, 43, 340, 292, 2, 3, 844, 76, 19802, ...</td>\n",
       "      <td>0</td>\n",
       "      <td>447</td>\n",
       "      <td>[13, 102, 43, 340, 292, 2, 3, 844, 76, 19802, ...</td>\n",
       "    </tr>\n",
       "    <tr>\n",
       "      <th>202199</th>\n",
       "      <td>[105, 70, 44, 181, 171, 128, 971, 13, 175, 293...</td>\n",
       "      <td>1</td>\n",
       "      <td>212</td>\n",
       "      <td>[105, 70, 44, 181, 171, 128, 971, 13, 175, 293...</td>\n",
       "    </tr>\n",
       "    <tr>\n",
       "      <th>72304</th>\n",
       "      <td>[2845]</td>\n",
       "      <td>0</td>\n",
       "      <td>1</td>\n",
       "      <td>[0.0, 0.0, 0.0, 0.0, 0.0, 0.0, 0.0, 0.0, 0.0, ...</td>\n",
       "    </tr>\n",
       "    <tr>\n",
       "      <th>190124</th>\n",
       "      <td>[3, 23, 721, 44, 5, 155, 272, 512, 45, 18, 102...</td>\n",
       "      <td>0</td>\n",
       "      <td>279</td>\n",
       "      <td>[3, 23, 721, 44, 5, 155, 272, 512, 45, 18, 102...</td>\n",
       "    </tr>\n",
       "    <tr>\n",
       "      <th>53273</th>\n",
       "      <td>[102, 179, 102, 1, 2495, 367, 11, 871, 219, 23...</td>\n",
       "      <td>1</td>\n",
       "      <td>29</td>\n",
       "      <td>[0.0, 0.0, 0.0, 0.0, 0.0, 0.0, 0.0, 0.0, 0.0, ...</td>\n",
       "    </tr>\n",
       "    <tr>\n",
       "      <th>470501</th>\n",
       "      <td>[3, 303, 15, 30, 626, 253, 21, 71, 7, 1, 29, 1...</td>\n",
       "      <td>1</td>\n",
       "      <td>462</td>\n",
       "      <td>[3, 303, 15, 30, 626, 253, 21, 71, 7, 1, 29, 1...</td>\n",
       "    </tr>\n",
       "    <tr>\n",
       "      <th>247565</th>\n",
       "      <td>[7769, 2, 573, 3680, 27, 1, 1812, 109, 13, 353...</td>\n",
       "      <td>1</td>\n",
       "      <td>400</td>\n",
       "      <td>[7769, 2, 573, 3680, 27, 1, 1812, 109, 13, 353...</td>\n",
       "    </tr>\n",
       "    <tr>\n",
       "      <th>506007</th>\n",
       "      <td>[85, 122, 736, 4, 119, 156, 283, 448, 301, 381...</td>\n",
       "      <td>0</td>\n",
       "      <td>462</td>\n",
       "      <td>[85, 122, 736, 4, 119, 156, 283, 448, 301, 381...</td>\n",
       "    </tr>\n",
       "    <tr>\n",
       "      <th>394182</th>\n",
       "      <td>[15, 559, 701, 55, 1225, 2, 82, 73, 1717, 55, ...</td>\n",
       "      <td>0</td>\n",
       "      <td>43</td>\n",
       "      <td>[0.0, 0.0, 0.0, 0.0, 0.0, 0.0, 0.0, 0.0, 0.0, ...</td>\n",
       "    </tr>\n",
       "    <tr>\n",
       "      <th>68389</th>\n",
       "      <td>[15, 30, 11, 472]</td>\n",
       "      <td>0</td>\n",
       "      <td>4</td>\n",
       "      <td>[0.0, 0.0, 0.0, 0.0, 0.0, 0.0, 0.0, 0.0, 0.0, ...</td>\n",
       "    </tr>\n",
       "    <tr>\n",
       "      <th>338190</th>\n",
       "      <td>[1631, 1523, 76, 1, 4376, 2, 47, 371, 1067, 78...</td>\n",
       "      <td>1</td>\n",
       "      <td>69</td>\n",
       "      <td>[0.0, 0.0, 0.0, 0.0, 0.0, 0.0, 0.0, 0.0, 0.0, ...</td>\n",
       "    </tr>\n",
       "    <tr>\n",
       "      <th>345271</th>\n",
       "      <td>[3, 131, 26, 2925, 4, 35, 15, 30, 18, 62, 222,...</td>\n",
       "      <td>0</td>\n",
       "      <td>396</td>\n",
       "      <td>[3, 131, 26, 2925, 4, 35, 15, 30, 18, 62, 222,...</td>\n",
       "    </tr>\n",
       "    <tr>\n",
       "      <th>357093</th>\n",
       "      <td>[3, 136, 42, 245, 16, 48609, 14, 160, 32, 2515...</td>\n",
       "      <td>1</td>\n",
       "      <td>70</td>\n",
       "      <td>[0.0, 0.0, 0.0, 0.0, 0.0, 0.0, 0.0, 0.0, 0.0, ...</td>\n",
       "    </tr>\n",
       "    <tr>\n",
       "      <th>301232</th>\n",
       "      <td>[102, 30, 105, 146, 393, 35, 1, 297, 3237, 31,...</td>\n",
       "      <td>0</td>\n",
       "      <td>76</td>\n",
       "      <td>[0.0, 0.0, 0.0, 0.0, 0.0, 0.0, 0.0, 0.0, 0.0, ...</td>\n",
       "    </tr>\n",
       "    <tr>\n",
       "      <th>536748</th>\n",
       "      <td>[2794, 4761, 102, 52, 443, 20, 1, 323, 52, 219...</td>\n",
       "      <td>0</td>\n",
       "      <td>141</td>\n",
       "      <td>[0.0, 0.0, 0.0, 0.0, 0.0, 0.0, 0.0, 0.0, 0.0, ...</td>\n",
       "    </tr>\n",
       "    <tr>\n",
       "      <th>251042</th>\n",
       "      <td>[1045, 1, 29, 6, 120, 1092, 1, 1595, 25, 42, 6...</td>\n",
       "      <td>0</td>\n",
       "      <td>52</td>\n",
       "      <td>[0.0, 0.0, 0.0, 0.0, 0.0, 0.0, 0.0, 0.0, 0.0, ...</td>\n",
       "    </tr>\n",
       "    <tr>\n",
       "      <th>366073</th>\n",
       "      <td>[970, 4276, 48613, 11, 260, 61, 2648, 19, 291,...</td>\n",
       "      <td>1</td>\n",
       "      <td>40</td>\n",
       "      <td>[0.0, 0.0, 0.0, 0.0, 0.0, 0.0, 0.0, 0.0, 0.0, ...</td>\n",
       "    </tr>\n",
       "  </tbody>\n",
       "</table>\n",
       "</div>"
      ],
      "text/plain": [
       "                                                  comment  sentiment_polarity  \\\n",
       "39658   [19, 62, 182, 58, 370, 45, 19, 160, 44, 2, 93,...                   1   \n",
       "406546  [15, 30, 75, 41, 120, 359, 2, 16, 1, 190, 8, 7...                   1   \n",
       "238894  [33, 29, 17, 1878, 20, 218, 25, 74, 95, 20, 13...                   0   \n",
       "453534  [3372, 1, 1503, 1512, 7073, 655, 28081, 24, 1,...                   0   \n",
       "484639                      [250, 529, 303, 31, 5, 28082]                   1   \n",
       "87433   [4648, 1, 453, 12, 857, 3267, 11, 5, 201, 681,...                   1   \n",
       "115310  [15, 30, 1155, 38, 19, 131, 337, 358, 2, 57, 1...                   0   \n",
       "463156  [490, 40, 148, 6, 34393, 14, 209, 4, 808, 8, 2...                   0   \n",
       "455506  [14, 25, 473, 2151, 76, 1, 48, 14, 645, 10, 24...                   0   \n",
       "385063  [1562, 54, 1, 3218, 148, 1, 3819, 44, 27, 399,...                   0   \n",
       "444646  [1026, 8, 302, 48564, 1403, 344, 57, 48565, 34...                   0   \n",
       "452245  [1381, 212, 36, 19, 222, 12, 2, 1900, 5032, 33...                   1   \n",
       "338677  [15, 11, 1, 1521, 1252, 14, 25, 10, 1883, 2, 3...                   0   \n",
       "182365  [7766, 85, 21, 164, 220, 15, 30, 89, 373, 52, ...                   0   \n",
       "219862  [60, 5, 518, 30, 215, 1, 769, 901, 386, 3, 153...                   1   \n",
       "424640  [102, 1798, 6, 1, 2127, 10, 1, 103, 6, 84, 623...                   0   \n",
       "505921  [3, 121, 15, 30, 8, 75, 533, 2656, 1, 102, 48,...                   1   \n",
       "116293  [1745, 46, 1, 9920, 337, 1415, 7397, 12, 34398...                   0   \n",
       "444876  [15, 6, 1, 1314, 48, 1067, 288, 5545, 3, 140, ...                   0   \n",
       "358621  [203, 489, 2, 631, 3405, 27, 260, 13, 294, 818...                   1   \n",
       "472660  [13, 394, 775, 44, 24, 281, 270, 5, 741, 52, 2...                   1   \n",
       "322552  [645, 10, 700, 2478, 7296, 9, 5, 155, 820, 16,...                   0   \n",
       "479732  [338, 1515, 12, 45, 3, 102, 431, 12, 28088, 6,...                   1   \n",
       "478912  [13, 455, 3, 2434, 24, 1, 139, 149, 19799, 20,...                   0   \n",
       "244327  [14, 288, 4, 58, 55, 2, 18, 43, 183, 9, 43, 53...                   0   \n",
       "442738  [1, 29, 6, 33, 17, 3, 82, 35, 12, 1, 358, 25, ...                   0   \n",
       "141446  [105, 70, 4, 130, 580, 2, 211, 171, 22, 613, 2...                   1   \n",
       "170034  [1048, 1, 1583, 58, 9, 1, 191, 29, 1, 477, 913...                   1   \n",
       "524633  [3, 121, 7185, 48575, 156, 1706, 190, 55, 1311...                   1   \n",
       "263680  [90, 44, 20, 5, 1617, 133, 178, 395, 53, 6, 40...                   0   \n",
       "167984  [183, 1745, 1, 29, 11, 120, 33, 17, 105, 86, 4...                   1   \n",
       "425716  [105, 70, 332, 44, 9, 311, 145, 272, 48578, 2,...                   1   \n",
       "248059  [13, 975, 2, 3, 39, 96, 56, 46, 1632, 1901, 51...                   1   \n",
       "325703  [13, 102, 43, 340, 292, 2, 3, 844, 76, 19802, ...                   0   \n",
       "202199  [105, 70, 44, 181, 171, 128, 971, 13, 175, 293...                   1   \n",
       "72304                                              [2845]                   0   \n",
       "190124  [3, 23, 721, 44, 5, 155, 272, 512, 45, 18, 102...                   0   \n",
       "53273   [102, 179, 102, 1, 2495, 367, 11, 871, 219, 23...                   1   \n",
       "470501  [3, 303, 15, 30, 626, 253, 21, 71, 7, 1, 29, 1...                   1   \n",
       "247565  [7769, 2, 573, 3680, 27, 1, 1812, 109, 13, 353...                   1   \n",
       "506007  [85, 122, 736, 4, 119, 156, 283, 448, 301, 381...                   0   \n",
       "394182  [15, 559, 701, 55, 1225, 2, 82, 73, 1717, 55, ...                   0   \n",
       "68389                                   [15, 30, 11, 472]                   0   \n",
       "338190  [1631, 1523, 76, 1, 4376, 2, 47, 371, 1067, 78...                   1   \n",
       "345271  [3, 131, 26, 2925, 4, 35, 15, 30, 18, 62, 222,...                   0   \n",
       "357093  [3, 136, 42, 245, 16, 48609, 14, 160, 32, 2515...                   1   \n",
       "301232  [102, 30, 105, 146, 393, 35, 1, 297, 3237, 31,...                   0   \n",
       "536748  [2794, 4761, 102, 52, 443, 20, 1, 323, 52, 219...                   0   \n",
       "251042  [1045, 1, 29, 6, 120, 1092, 1, 1595, 25, 42, 6...                   0   \n",
       "366073  [970, 4276, 48613, 11, 260, 61, 2648, 19, 291,...                   1   \n",
       "\n",
       "        comment_len                                      comment_input  \n",
       "39658            57  [0.0, 0.0, 0.0, 0.0, 0.0, 0.0, 0.0, 0.0, 0.0, ...  \n",
       "406546          157  [0.0, 0.0, 0.0, 0.0, 0.0, 0.0, 0.0, 0.0, 0.0, ...  \n",
       "238894           73  [0.0, 0.0, 0.0, 0.0, 0.0, 0.0, 0.0, 0.0, 0.0, ...  \n",
       "453534           24  [0.0, 0.0, 0.0, 0.0, 0.0, 0.0, 0.0, 0.0, 0.0, ...  \n",
       "484639            6  [0.0, 0.0, 0.0, 0.0, 0.0, 0.0, 0.0, 0.0, 0.0, ...  \n",
       "87433            66  [0.0, 0.0, 0.0, 0.0, 0.0, 0.0, 0.0, 0.0, 0.0, ...  \n",
       "115310           60  [0.0, 0.0, 0.0, 0.0, 0.0, 0.0, 0.0, 0.0, 0.0, ...  \n",
       "463156           33  [0.0, 0.0, 0.0, 0.0, 0.0, 0.0, 0.0, 0.0, 0.0, ...  \n",
       "455506          197  [0.0, 0.0, 0.0, 14, 25, 473, 2151, 76, 1, 48, ...  \n",
       "385063           61  [0.0, 0.0, 0.0, 0.0, 0.0, 0.0, 0.0, 0.0, 0.0, ...  \n",
       "444646           23  [0.0, 0.0, 0.0, 0.0, 0.0, 0.0, 0.0, 0.0, 0.0, ...  \n",
       "452245           44  [0.0, 0.0, 0.0, 0.0, 0.0, 0.0, 0.0, 0.0, 0.0, ...  \n",
       "338677          132  [0.0, 0.0, 0.0, 0.0, 0.0, 0.0, 0.0, 0.0, 0.0, ...  \n",
       "182365          111  [0.0, 0.0, 0.0, 0.0, 0.0, 0.0, 0.0, 0.0, 0.0, ...  \n",
       "219862           27  [0.0, 0.0, 0.0, 0.0, 0.0, 0.0, 0.0, 0.0, 0.0, ...  \n",
       "424640           74  [0.0, 0.0, 0.0, 0.0, 0.0, 0.0, 0.0, 0.0, 0.0, ...  \n",
       "505921           40  [0.0, 0.0, 0.0, 0.0, 0.0, 0.0, 0.0, 0.0, 0.0, ...  \n",
       "116293           96  [0.0, 0.0, 0.0, 0.0, 0.0, 0.0, 0.0, 0.0, 0.0, ...  \n",
       "444876          174  [0.0, 0.0, 0.0, 0.0, 0.0, 0.0, 0.0, 0.0, 0.0, ...  \n",
       "358621           74  [0.0, 0.0, 0.0, 0.0, 0.0, 0.0, 0.0, 0.0, 0.0, ...  \n",
       "472660           16  [0.0, 0.0, 0.0, 0.0, 0.0, 0.0, 0.0, 0.0, 0.0, ...  \n",
       "322552          230  [645, 10, 700, 2478, 7296, 9, 5, 155, 820, 16,...  \n",
       "479732           85  [0.0, 0.0, 0.0, 0.0, 0.0, 0.0, 0.0, 0.0, 0.0, ...  \n",
       "478912          109  [0.0, 0.0, 0.0, 0.0, 0.0, 0.0, 0.0, 0.0, 0.0, ...  \n",
       "244327          130  [0.0, 0.0, 0.0, 0.0, 0.0, 0.0, 0.0, 0.0, 0.0, ...  \n",
       "442738           21  [0.0, 0.0, 0.0, 0.0, 0.0, 0.0, 0.0, 0.0, 0.0, ...  \n",
       "141446          472  [105, 70, 4, 130, 580, 2, 211, 171, 22, 613, 2...  \n",
       "170034           70  [0.0, 0.0, 0.0, 0.0, 0.0, 0.0, 0.0, 0.0, 0.0, ...  \n",
       "524633           76  [0.0, 0.0, 0.0, 0.0, 0.0, 0.0, 0.0, 0.0, 0.0, ...  \n",
       "263680           78  [0.0, 0.0, 0.0, 0.0, 0.0, 0.0, 0.0, 0.0, 0.0, ...  \n",
       "167984           88  [0.0, 0.0, 0.0, 0.0, 0.0, 0.0, 0.0, 0.0, 0.0, ...  \n",
       "425716           26  [0.0, 0.0, 0.0, 0.0, 0.0, 0.0, 0.0, 0.0, 0.0, ...  \n",
       "248059          231  [13, 975, 2, 3, 39, 96, 56, 46, 1632, 1901, 51...  \n",
       "325703          447  [13, 102, 43, 340, 292, 2, 3, 844, 76, 19802, ...  \n",
       "202199          212  [105, 70, 44, 181, 171, 128, 971, 13, 175, 293...  \n",
       "72304             1  [0.0, 0.0, 0.0, 0.0, 0.0, 0.0, 0.0, 0.0, 0.0, ...  \n",
       "190124          279  [3, 23, 721, 44, 5, 155, 272, 512, 45, 18, 102...  \n",
       "53273            29  [0.0, 0.0, 0.0, 0.0, 0.0, 0.0, 0.0, 0.0, 0.0, ...  \n",
       "470501          462  [3, 303, 15, 30, 626, 253, 21, 71, 7, 1, 29, 1...  \n",
       "247565          400  [7769, 2, 573, 3680, 27, 1, 1812, 109, 13, 353...  \n",
       "506007          462  [85, 122, 736, 4, 119, 156, 283, 448, 301, 381...  \n",
       "394182           43  [0.0, 0.0, 0.0, 0.0, 0.0, 0.0, 0.0, 0.0, 0.0, ...  \n",
       "68389             4  [0.0, 0.0, 0.0, 0.0, 0.0, 0.0, 0.0, 0.0, 0.0, ...  \n",
       "338190           69  [0.0, 0.0, 0.0, 0.0, 0.0, 0.0, 0.0, 0.0, 0.0, ...  \n",
       "345271          396  [3, 131, 26, 2925, 4, 35, 15, 30, 18, 62, 222,...  \n",
       "357093           70  [0.0, 0.0, 0.0, 0.0, 0.0, 0.0, 0.0, 0.0, 0.0, ...  \n",
       "301232           76  [0.0, 0.0, 0.0, 0.0, 0.0, 0.0, 0.0, 0.0, 0.0, ...  \n",
       "536748          141  [0.0, 0.0, 0.0, 0.0, 0.0, 0.0, 0.0, 0.0, 0.0, ...  \n",
       "251042           52  [0.0, 0.0, 0.0, 0.0, 0.0, 0.0, 0.0, 0.0, 0.0, ...  \n",
       "366073           40  [0.0, 0.0, 0.0, 0.0, 0.0, 0.0, 0.0, 0.0, 0.0, ...  "
      ]
     },
     "execution_count": 157,
     "metadata": {},
     "output_type": "execute_result"
    }
   ],
   "source": []
  },
  {
   "cell_type": "code",
   "execution_count": 205,
   "metadata": {},
   "outputs": [
    {
     "data": {
      "text/plain": [
       "(44080,)"
      ]
     },
     "execution_count": 205,
     "metadata": {},
     "output_type": "execute_result"
    }
   ],
   "source": [
    "y_train.shape"
   ]
  },
  {
   "cell_type": "code",
   "execution_count": 160,
   "metadata": {},
   "outputs": [
    {
     "name": "stdout",
     "output_type": "stream",
     "text": [
      "Split the data into training set with size of 44080, validation set with size of 5510, test set with size of 5510\n"
     ]
    }
   ],
   "source": [
    "#create dataset for training, val, test\n",
    "data = df\n",
    "data_train, data_test = train_test_split(data, test_size=0.2, random_state=42)\n",
    "data_validation,data_test = train_test_split(data_test, test_size=0.5, random_state=43)\n",
    "print('Split the data into training set with size of {}, validation set with size of {}, test set with size of {}'.format(len(data_train), len(data_validation), len(data_test)))"
   ]
  },
  {
   "cell_type": "markdown",
   "metadata": {},
   "source": [
    "# Build Model"
   ]
  },
  {
   "cell_type": "code",
   "execution_count": 195,
   "metadata": {},
   "outputs": [],
   "source": [
    "X_train,y_train = data_train['comment_input'],data_train['sentiment_polarity']\n",
    "X_validation,y_validation = data_validation['comment_input'],data_validation['sentiment_polarity']"
   ]
  },
  {
   "cell_type": "code",
   "execution_count": 204,
   "metadata": {},
   "outputs": [],
   "source": [
    "X_train = np.array(X_train.tolist())\n",
    "y_train = np.array(y_train.tolist())\n",
    "X_validation = np.array(X_validation.tolist())\n",
    "y_validation = np.array(y_validation.tolist())"
   ]
  },
  {
   "cell_type": "markdown",
   "metadata": {},
   "source": [
    "## A. LSTM model "
   ]
  },
  {
   "cell_type": "code",
   "execution_count": 216,
   "metadata": {
    "scrolled": true
   },
   "outputs": [],
   "source": [
    "#build LSTM model\n",
    "\n",
    "top_words = len(vocabulary)+1\n",
    "max_review_length=200\n",
    "embedding_vecor_length = 32\n",
    "model = Sequential()\n",
    "model.add(Embedding(top_words, embedding_vecor_length, input_length=max_review_length))\n",
    "model.add(LSTM(100, dropout=0.2, recurrent_dropout=0.2))\n",
    "model.add(Dense(1, activation='sigmoid'))\n",
    "model.compile(loss='binary_crossentropy', optimizer='adam', metrics=['accuracy'])"
   ]
  },
  {
   "cell_type": "code",
   "execution_count": 217,
   "metadata": {},
   "outputs": [
    {
     "name": "stdout",
     "output_type": "stream",
     "text": [
      "Model: \"sequential_2\"\n",
      "_________________________________________________________________\n",
      "Layer (type)                 Output Shape              Param #   \n",
      "=================================================================\n",
      "embedding_2 (Embedding)      (None, 200, 32)           4628224   \n",
      "_________________________________________________________________\n",
      "lstm_2 (LSTM)                (None, 100)               53200     \n",
      "_________________________________________________________________\n",
      "dense_2 (Dense)              (None, 1)                 101       \n",
      "=================================================================\n",
      "Total params: 4,681,525\n",
      "Trainable params: 4,681,525\n",
      "Non-trainable params: 0\n",
      "_________________________________________________________________\n"
     ]
    }
   ],
   "source": [
    "model.summary()"
   ]
  },
  {
   "cell_type": "code",
   "execution_count": 218,
   "metadata": {
    "scrolled": true
   },
   "outputs": [
    {
     "name": "stdout",
     "output_type": "stream",
     "text": [
      "Train on 44080 samples, validate on 5510 samples\n",
      "Epoch 1/1\n",
      "44080/44080 [==============================] - 232s 5ms/step - loss: 0.3855 - accuracy: 0.8333 - val_loss: 0.2979 - val_accuracy: 0.8788\n"
     ]
    },
    {
     "data": {
      "text/plain": [
       "<keras.callbacks.callbacks.History at 0x120e86cf8>"
      ]
     },
     "execution_count": 218,
     "metadata": {},
     "output_type": "execute_result"
    }
   ],
   "source": [
    "model.fit(X_train, y_train, epochs=1, batch_size=32,verbose = 1,validation_data=(X_validation,y_validation))"
   ]
  },
  {
   "cell_type": "markdown",
   "metadata": {},
   "source": [
    "## B. 1dCNN+LSTM model"
   ]
  },
  {
   "cell_type": "code",
   "execution_count": 221,
   "metadata": {},
   "outputs": [
    {
     "name": "stdout",
     "output_type": "stream",
     "text": [
      "Model: \"sequential_4\"\n",
      "_________________________________________________________________\n",
      "Layer (type)                 Output Shape              Param #   \n",
      "=================================================================\n",
      "embedding_4 (Embedding)      (None, 200, 32)           4628224   \n",
      "_________________________________________________________________\n",
      "conv1d_1 (Conv1D)            (None, 200, 32)           3104      \n",
      "_________________________________________________________________\n",
      "max_pooling1d_1 (MaxPooling1 (None, 100, 32)           0         \n",
      "_________________________________________________________________\n",
      "lstm_3 (LSTM)                (None, 100)               53200     \n",
      "_________________________________________________________________\n",
      "dense_3 (Dense)              (None, 1)                 101       \n",
      "=================================================================\n",
      "Total params: 4,684,629\n",
      "Trainable params: 4,684,629\n",
      "Non-trainable params: 0\n",
      "_________________________________________________________________\n",
      "None\n"
     ]
    }
   ],
   "source": [
    "#build 1dcnn+lstm\n",
    "embedding_vecor_length = 32\n",
    "top_words = len(vocabulary)+1\n",
    "max_review_length=200\n",
    "model = Sequential()\n",
    "model.add(Embedding(top_words, embedding_vecor_length, input_length=max_review_length))\n",
    "model.add(Conv1D(filters=32, kernel_size=3, padding='same', activation='relu'))\n",
    "model.add(MaxPooling1D(pool_size=2))\n",
    "model.add(LSTM(100,dropout=0.2, recurrent_dropout=0.2))\n",
    "model.add(Dense(1, activation='sigmoid'))\n",
    "model.compile(loss='binary_crossentropy', optimizer='adam', metrics=['accuracy'])\n",
    "print(model.summary())\n",
    "\n"
   ]
  },
  {
   "cell_type": "code",
   "execution_count": 224,
   "metadata": {},
   "outputs": [
    {
     "name": "stdout",
     "output_type": "stream",
     "text": [
      "Train on 44080 samples, validate on 5510 samples\n",
      "Epoch 1/5\n",
      "44080/44080 [==============================] - 164s 4ms/step - loss: 0.3246 - accuracy: 0.8593 - val_loss: 0.2421 - val_accuracy: 0.9000\n",
      "Epoch 2/5\n",
      "44080/44080 [==============================] - 152s 3ms/step - loss: 0.1645 - accuracy: 0.9397 - val_loss: 0.2379 - val_accuracy: 0.9094\n",
      "Epoch 3/5\n",
      "44080/44080 [==============================] - 152s 3ms/step - loss: 0.0997 - accuracy: 0.9654 - val_loss: 0.2563 - val_accuracy: 0.9122\n",
      "Epoch 4/5\n",
      "44080/44080 [==============================] - 152s 3ms/step - loss: 0.0638 - accuracy: 0.9784 - val_loss: 0.2949 - val_accuracy: 0.9067\n",
      "Epoch 5/5\n",
      "44080/44080 [==============================] - 164s 4ms/step - loss: 0.0461 - accuracy: 0.9851 - val_loss: 0.3249 - val_accuracy: 0.9015\n"
     ]
    },
    {
     "data": {
      "text/plain": [
       "<keras.callbacks.callbacks.History at 0x120f1fda0>"
      ]
     },
     "execution_count": 224,
     "metadata": {},
     "output_type": "execute_result"
    }
   ],
   "source": [
    "filepath=\"weights_best_cnn.hdf5\"\n",
    "checkpoint = ModelCheckpoint(filepath, monitor='val_acc', verbose=1, save_best_only=True, mode='max',save_weights_only=True)\n",
    "callbacks_list = [checkpoint]\n",
    "model.fit(X_train, y_train, epochs=5, batch_size=32,callbacks = callbacks_list, verbose = 1,validation_data=(X_validation,y_validation))"
   ]
  },
  {
   "cell_type": "markdown",
   "metadata": {},
   "source": [
    "# Evaluation"
   ]
  },
  {
   "cell_type": "code",
   "execution_count": 225,
   "metadata": {},
   "outputs": [],
   "source": [
    "X_test,y_test = data_test['comment_input'],data_test['sentiment_polarity']\n",
    "X_test = np.array(X_test.tolist())\n",
    "y_test = np.array(y_test.tolist())"
   ]
  },
  {
   "cell_type": "code",
   "execution_count": 234,
   "metadata": {},
   "outputs": [],
   "source": [
    "x =X_test[0].reshape((1,200))"
   ]
  },
  {
   "cell_type": "code",
   "execution_count": 235,
   "metadata": {},
   "outputs": [],
   "source": [
    "y_pred = model.predict(x)"
   ]
  },
  {
   "cell_type": "code",
   "execution_count": 236,
   "metadata": {},
   "outputs": [
    {
     "data": {
      "text/plain": [
       "array([[0.04153999]], dtype=float32)"
      ]
     },
     "execution_count": 236,
     "metadata": {},
     "output_type": "execute_result"
    }
   ],
   "source": [
    "y_pred"
   ]
  },
  {
   "cell_type": "code",
   "execution_count": null,
   "metadata": {},
   "outputs": [],
   "source": []
  }
 ],
 "metadata": {
  "kernelspec": {
   "display_name": "Python 3",
   "language": "python",
   "name": "python3"
  },
  "language_info": {
   "codemirror_mode": {
    "name": "ipython",
    "version": 3
   },
   "file_extension": ".py",
   "mimetype": "text/x-python",
   "name": "python",
   "nbconvert_exporter": "python",
   "pygments_lexer": "ipython3",
   "version": "3.7.1"
  }
 },
 "nbformat": 4,
 "nbformat_minor": 2
}
